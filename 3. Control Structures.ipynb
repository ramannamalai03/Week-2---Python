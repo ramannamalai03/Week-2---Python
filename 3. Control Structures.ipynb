{
 "cells": [
  {
   "cell_type": "code",
   "execution_count": null,
   "id": "b01499a4",
   "metadata": {},
   "outputs": [],
   "source": [
    "if():\n",
    "    print()"
   ]
  },
  {
   "cell_type": "code",
   "execution_count": null,
   "id": "2140199f",
   "metadata": {},
   "outputs": [],
   "source": [
    "age=int(input(\"Enter the age:\",))"
   ]
  },
  {
   "cell_type": "code",
   "execution_count": null,
   "id": "1d9d2899",
   "metadata": {},
   "outputs": [],
   "source": [
    "print(\"Adult\")"
   ]
  },
  {
   "cell_type": "code",
   "execution_count": null,
   "id": "413aef5c",
   "metadata": {},
   "outputs": [],
   "source": [
    "Sex=input(\"Choose the Sex:\")"
   ]
  },
  {
   "cell_type": "code",
   "execution_count": null,
   "id": "fd145e50",
   "metadata": {},
   "outputs": [],
   "source": [
    "print(Sex)"
   ]
  },
  {
   "cell_type": "code",
   "execution_count": null,
   "id": "90ffc93d",
   "metadata": {},
   "outputs": [],
   "source": [
    "Gender=input(\"Enter the Gender:\")"
   ]
  },
  {
   "cell_type": "code",
   "execution_count": null,
   "id": "3f550c55",
   "metadata": {},
   "outputs": [],
   "source": [
    "print(Gender)"
   ]
  },
  {
   "cell_type": "code",
   "execution_count": null,
   "id": "2fade80b",
   "metadata": {},
   "outputs": [],
   "source": [
    "age=int(input(\"Enter the age:\"))"
   ]
  },
  {
   "cell_type": "code",
   "execution_count": null,
   "id": "de43ad33",
   "metadata": {},
   "outputs": [],
   "source": [
    "print(adult)"
   ]
  },
  {
   "cell_type": "code",
   "execution_count": null,
   "id": "fae127de",
   "metadata": {},
   "outputs": [],
   "source": [
    "if():\n",
    "    print()"
   ]
  },
  {
   "cell_type": "code",
   "execution_count": null,
   "id": "42b6cfd1",
   "metadata": {},
   "outputs": [],
   "source": [
    "age=int(input(\"Enter the age:\"))"
   ]
  },
  {
   "cell_type": "code",
   "execution_count": null,
   "id": "6259d230",
   "metadata": {},
   "outputs": [],
   "source": [
    "print(Adult)"
   ]
  },
  {
   "cell_type": "code",
   "execution_count": null,
   "id": "e4f57843",
   "metadata": {},
   "outputs": [],
   "source": [
    "age=int(input(\"Enter the age:\"))"
   ]
  },
  {
   "cell_type": "code",
   "execution_count": null,
   "id": "31ff3340",
   "metadata": {},
   "outputs": [],
   "source": [
    "if(age==18):\n",
    "    print(\"adult\")"
   ]
  },
  {
   "cell_type": "code",
   "execution_count": null,
   "id": "b6ad7b91",
   "metadata": {},
   "outputs": [],
   "source": [
    "age=int(input(\"Enter the Age:\"))"
   ]
  },
  {
   "cell_type": "code",
   "execution_count": null,
   "id": "d13e3a8d",
   "metadata": {},
   "outputs": [],
   "source": [
    "if(age==50):\n",
    "    print(\"Adult\")"
   ]
  },
  {
   "cell_type": "code",
   "execution_count": null,
   "id": "a08a6084",
   "metadata": {},
   "outputs": [],
   "source": [
    "Gender=input(\"Enter the Gender:\")"
   ]
  },
  {
   "cell_type": "code",
   "execution_count": null,
   "id": "242220f9",
   "metadata": {},
   "outputs": [],
   "source": [
    "if(Gender==Male):\n",
    "    print(\"man\")"
   ]
  },
  {
   "cell_type": "code",
   "execution_count": null,
   "id": "80e208f3",
   "metadata": {},
   "outputs": [],
   "source": [
    "Gender=input(\"Enter the Gender:\")"
   ]
  },
  {
   "cell_type": "code",
   "execution_count": null,
   "id": "f9e7691b",
   "metadata": {},
   "outputs": [],
   "source": [
    "if(Gender==male):\n",
    "    print(\"male\")\n"
   ]
  },
  {
   "cell_type": "code",
   "execution_count": null,
   "id": "75f2432d",
   "metadata": {},
   "outputs": [],
   "source": [
    "Gender=input(\"Enter the Gender:\")"
   ]
  },
  {
   "cell_type": "code",
   "execution_count": null,
   "id": "cd695dda",
   "metadata": {},
   "outputs": [],
   "source": [
    "if Gender == \"Male\":\n",
    "    print(\"Man\")"
   ]
  },
  {
   "cell_type": "code",
   "execution_count": null,
   "id": "e4a90077",
   "metadata": {},
   "outputs": [],
   "source": [
    "age=int(input(\"Enter the age:\"))"
   ]
  },
  {
   "cell_type": "code",
   "execution_count": null,
   "id": "a73871a9",
   "metadata": {},
   "outputs": [],
   "source": [
    "if(age==50):\n",
    "    print(\"Adult\")"
   ]
  },
  {
   "cell_type": "code",
   "execution_count": null,
   "id": "138384fb",
   "metadata": {},
   "outputs": [],
   "source": [
    "if(age<=18):\n",
    "    print(\"Children\")"
   ]
  },
  {
   "cell_type": "code",
   "execution_count": null,
   "id": "7f43d1f7",
   "metadata": {},
   "outputs": [],
   "source": [
    "else:\n",
    "    print(\"Adult\")"
   ]
  },
  {
   "cell_type": "code",
   "execution_count": null,
   "id": "25c96eb7",
   "metadata": {},
   "outputs": [],
   "source": [
    "if(age<=18):\n",
    "    print(\"Children\")\n",
    "else:\n",
    "    print(\"Adult\")"
   ]
  },
  {
   "cell_type": "code",
   "execution_count": null,
   "id": "dcdccd7b",
   "metadata": {},
   "outputs": [],
   "source": [
    "if(age<10):\n",
    "    print(\"Adult\")\n",
    "else:\n",
    "    print(\"Children\")"
   ]
  },
  {
   "cell_type": "code",
   "execution_count": null,
   "id": "ad0caf03",
   "metadata": {},
   "outputs": [],
   "source": [
    "age=int(input(\"Enter the age:\"))"
   ]
  },
  {
   "cell_type": "code",
   "execution_count": null,
   "id": "d31ad538",
   "metadata": {},
   "outputs": [],
   "source": [
    "if(age<34):\n",
    "    print(\"Children\")\n",
    "else:\n",
    "    print(\"adult\")"
   ]
  },
  {
   "cell_type": "code",
   "execution_count": 5,
   "id": "6b785e8c",
   "metadata": {},
   "outputs": [
    {
     "name": "stdout",
     "output_type": "stream",
     "text": [
      "Enter the Age:52\n"
     ]
    }
   ],
   "source": [
    "age=int(input(\"Enter the Age:\"))"
   ]
  },
  {
   "cell_type": "code",
   "execution_count": 6,
   "id": "4466c499",
   "metadata": {},
   "outputs": [
    {
     "name": "stdout",
     "output_type": "stream",
     "text": [
      "Senior Citizen\n"
     ]
    }
   ],
   "source": [
    "if(age<10):\n",
    "    print(\"Children\")\n",
    "elif(age<30):\n",
    "    print(\"Adult\")\n",
    "elif(age<50):\n",
    "    print(\"Citizen\")\n",
    "else:\n",
    "    print(\"Senior Citizen\")"
   ]
  },
  {
   "cell_type": "code",
   "execution_count": 7,
   "id": "ce60ad38",
   "metadata": {},
   "outputs": [],
   "source": [
    "lists=[23,49,57,89]"
   ]
  },
  {
   "cell_type": "code",
   "execution_count": 8,
   "id": "14667b52",
   "metadata": {},
   "outputs": [
    {
     "name": "stdout",
     "output_type": "stream",
     "text": [
      "23\n",
      "49\n",
      "57\n",
      "89\n"
     ]
    }
   ],
   "source": [
    "for temp in lists:\n",
    "    print(temp)"
   ]
  },
  {
   "cell_type": "code",
   "execution_count": 11,
   "id": "aa670241",
   "metadata": {},
   "outputs": [
    {
     "name": "stdout",
     "output_type": "stream",
     "text": [
      "Adult\n",
      "Citizen\n",
      "Senior Citizen\n",
      "Senior Citizen\n"
     ]
    }
   ],
   "source": [
    "for age in lists:\n",
    "    if(age<10):\n",
    "        print(\"Children\")\n",
    "    elif(age<30):\n",
    "        print(\"Adult\")\n",
    "    elif(age<50):\n",
    "        print(\"Citizen\")\n",
    "    else:\n",
    "        print(\"Senior Citizen\")"
   ]
  },
  {
   "cell_type": "code",
   "execution_count": 12,
   "id": "71d1d619",
   "metadata": {},
   "outputs": [],
   "source": [
    "num1=10\n",
    "num2=20\n",
    "add=num1+num2"
   ]
  },
  {
   "cell_type": "code",
   "execution_count": 13,
   "id": "b48c62f5",
   "metadata": {},
   "outputs": [
    {
     "name": "stdout",
     "output_type": "stream",
     "text": [
      "30\n"
     ]
    }
   ],
   "source": [
    "print(add)"
   ]
  },
  {
   "cell_type": "code",
   "execution_count": 14,
   "id": "d8e1fbfd",
   "metadata": {},
   "outputs": [
    {
     "name": "stdout",
     "output_type": "stream",
     "text": [
      "Enter the num1:20\n"
     ]
    }
   ],
   "source": [
    "num1=int(input(\"Enter the num1:\",))"
   ]
  },
  {
   "cell_type": "code",
   "execution_count": 15,
   "id": "4c140fd2",
   "metadata": {},
   "outputs": [
    {
     "name": "stdout",
     "output_type": "stream",
     "text": [
      "Enter the num2:30\n"
     ]
    }
   ],
   "source": [
    "num2=int(input(\"Enter the num2:\",))"
   ]
  },
  {
   "cell_type": "code",
   "execution_count": 16,
   "id": "84c078e5",
   "metadata": {},
   "outputs": [
    {
     "name": "stdout",
     "output_type": "stream",
     "text": [
      "50\n"
     ]
    }
   ],
   "source": [
    "print(num1+num2)"
   ]
  },
  {
   "cell_type": "code",
   "execution_count": 17,
   "id": "ce109a9a",
   "metadata": {},
   "outputs": [],
   "source": [
    "if():\n",
    "    print()"
   ]
  },
  {
   "cell_type": "code",
   "execution_count": 31,
   "id": "84ff344d",
   "metadata": {},
   "outputs": [
    {
     "name": "stdout",
     "output_type": "stream",
     "text": [
      "Enter the age:68\n"
     ]
    }
   ],
   "source": [
    "age=int(input(\"Enter the age:\",))"
   ]
  },
  {
   "cell_type": "code",
   "execution_count": 21,
   "id": "1f684e3d",
   "metadata": {},
   "outputs": [
    {
     "name": "stdout",
     "output_type": "stream",
     "text": [
      "Children\n"
     ]
    }
   ],
   "source": [
    "if(age==20):\n",
    "    print(\"Children\")"
   ]
  },
  {
   "cell_type": "code",
   "execution_count": 24,
   "id": "7705c98c",
   "metadata": {},
   "outputs": [
    {
     "name": "stdout",
     "output_type": "stream",
     "text": [
      "Children\n"
     ]
    }
   ],
   "source": [
    "if(age<18):\n",
    "    print(\"Children\")\n",
    "else:\n",
    "    print(\"Adult\")"
   ]
  },
  {
   "cell_type": "code",
   "execution_count": 32,
   "id": "e900a1fa",
   "metadata": {},
   "outputs": [
    {
     "name": "stdout",
     "output_type": "stream",
     "text": [
      "Senior Citizen\n"
     ]
    }
   ],
   "source": [
    "if(age<=18):\n",
    "    print(\"Children\")\n",
    "elif(age<=35):\n",
    "    print(\"Adult\")\n",
    "elif(age<=59):\n",
    "    print(\"Citizen\")\n",
    "else:\n",
    "    print(\"Senior Citizen\")"
   ]
  },
  {
   "cell_type": "code",
   "execution_count": 33,
   "id": "32480d98",
   "metadata": {},
   "outputs": [
    {
     "ename": "SyntaxError",
     "evalue": "invalid syntax (1488300868.py, line 2)",
     "output_type": "error",
     "traceback": [
      "\u001b[1;36m  Cell \u001b[1;32mIn[33], line 2\u001b[1;36m\u001b[0m\n\u001b[1;33m    for loop temp in lists:\u001b[0m\n\u001b[1;37m             ^\u001b[0m\n\u001b[1;31mSyntaxError\u001b[0m\u001b[1;31m:\u001b[0m invalid syntax\n"
     ]
    }
   ],
   "source": [
    "lists=[]\n",
    "for loop temp in lists:"
   ]
  },
  {
   "cell_type": "code",
   "execution_count": 34,
   "id": "1e799454",
   "metadata": {},
   "outputs": [
    {
     "name": "stdout",
     "output_type": "stream",
     "text": [
      "12\n",
      "23\n",
      "34\n",
      "45\n",
      "67\n"
     ]
    }
   ],
   "source": [
    "lists=[12,23,34,45,67]\n",
    "for temp in lists:\n",
    "    print(temp)"
   ]
  },
  {
   "cell_type": "code",
   "execution_count": 36,
   "id": "e36a68ae",
   "metadata": {},
   "outputs": [
    {
     "name": "stdout",
     "output_type": "stream",
     "text": [
      "Children\n",
      "Adult\n",
      "Adult\n",
      "Citizen\n",
      "Senior Citizen\n"
     ]
    }
   ],
   "source": [
    "for age in lists:\n",
    "    if(age<=18):\n",
    "        print(\"Children\")\n",
    "    elif(age<=35):\n",
    "        print(\"Adult\")\n",
    "    elif(age<=59):\n",
    "        print(\"Citizen\")\n",
    "    else:\n",
    "        print(\"Senior Citizen\")"
   ]
  },
  {
   "cell_type": "code",
   "execution_count": 46,
   "id": "f2dfc085",
   "metadata": {},
   "outputs": [
    {
     "name": "stdout",
     "output_type": "stream",
     "text": [
      "Enter the number:12\n",
      "Even Number\n"
     ]
    }
   ],
   "source": [
    "num=int(input(\"Enter the number:\",))\n",
    "if((num%2)==0):\n",
    "    print(\"Even Number\")\n",
    "else:\n",
    "    print(\"Odd Number\")"
   ]
  },
  {
   "cell_type": "code",
   "execution_count": 41,
   "id": "3188a261",
   "metadata": {},
   "outputs": [
    {
     "name": "stdout",
     "output_type": "stream",
     "text": [
      "Enter the number:6\n"
     ]
    }
   ],
   "source": [
    "num=int(input(\"Enter the number:\",))"
   ]
  },
  {
   "cell_type": "code",
   "execution_count": 43,
   "id": "da6f85c3",
   "metadata": {},
   "outputs": [
    {
     "name": "stdout",
     "output_type": "stream",
     "text": [
      "Even Number\n"
     ]
    }
   ],
   "source": [
    "if((num%2)==0):\n",
    "    print(\"Even Number\")\n",
    "else:\n",
    "    print(\"Odd Number\")"
   ]
  },
  {
   "cell_type": "code",
   "execution_count": 44,
   "id": "da93d87a",
   "metadata": {},
   "outputs": [
    {
     "name": "stdout",
     "output_type": "stream",
     "text": [
      "Enter the Number:101\n"
     ]
    }
   ],
   "source": [
    "num=int(input(\"Enter the Number:\",))"
   ]
  },
  {
   "cell_type": "code",
   "execution_count": 45,
   "id": "0120fb9f",
   "metadata": {},
   "outputs": [
    {
     "name": "stdout",
     "output_type": "stream",
     "text": [
      "Odd Number\n"
     ]
    }
   ],
   "source": [
    "if((num%2)==1):\n",
    "    print(\"Odd Number\")\n",
    "else:\n",
    "    print(\"Even Number\")"
   ]
  },
  {
   "cell_type": "code",
   "execution_count": 48,
   "id": "b33df8d4",
   "metadata": {},
   "outputs": [
    {
     "data": {
      "text/plain": [
       "range(0, 10)"
      ]
     },
     "execution_count": 48,
     "metadata": {},
     "output_type": "execute_result"
    }
   ],
   "source": [
    "range(0,10)"
   ]
  },
  {
   "cell_type": "code",
   "execution_count": 49,
   "id": "07641281",
   "metadata": {},
   "outputs": [
    {
     "name": "stdout",
     "output_type": "stream",
     "text": [
      "range(0, 10)\n"
     ]
    }
   ],
   "source": [
    "print(range(0,10))"
   ]
  },
  {
   "cell_type": "code",
   "execution_count": 50,
   "id": "b20f02a6",
   "metadata": {},
   "outputs": [
    {
     "name": "stdout",
     "output_type": "stream",
     "text": [
      "0\n",
      "1\n",
      "2\n",
      "3\n",
      "4\n",
      "5\n",
      "6\n",
      "7\n",
      "8\n",
      "9\n"
     ]
    }
   ],
   "source": [
    "for num in range(0,10):\n",
    "    print(num)\n"
   ]
  },
  {
   "cell_type": "code",
   "execution_count": 51,
   "id": "e9592ee7",
   "metadata": {},
   "outputs": [
    {
     "name": "stdout",
     "output_type": "stream",
     "text": [
      "100\n",
      "105\n",
      "110\n",
      "115\n",
      "120\n",
      "125\n"
     ]
    }
   ],
   "source": [
    "for num in range(100,130,5):\n",
    "    print(num)"
   ]
  },
  {
   "cell_type": "code",
   "execution_count": null,
   "id": "ca18e52f",
   "metadata": {},
   "outputs": [],
   "source": []
  }
 ],
 "metadata": {
  "kernelspec": {
   "display_name": "Python 3 (ipykernel)",
   "language": "python",
   "name": "python3"
  },
  "language_info": {
   "codemirror_mode": {
    "name": "ipython",
    "version": 3
   },
   "file_extension": ".py",
   "mimetype": "text/x-python",
   "name": "python",
   "nbconvert_exporter": "python",
   "pygments_lexer": "ipython3",
   "version": "3.11.5"
  }
 },
 "nbformat": 4,
 "nbformat_minor": 5
}
