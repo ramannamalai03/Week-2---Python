{
 "cells": [
  {
   "cell_type": "code",
   "execution_count": null,
   "id": "acc030fa",
   "metadata": {},
   "outputs": [],
   "source": [
    "# Create a class and function, and list out the items in the list"
   ]
  },
  {
   "cell_type": "code",
   "execution_count": null,
   "id": "af861dee",
   "metadata": {},
   "outputs": [],
   "source": [
    "# Below is one way of output"
   ]
  },
  {
   "cell_type": "code",
   "execution_count": 12,
   "id": "423670ca",
   "metadata": {},
   "outputs": [],
   "source": [
    "class Subfields():\n",
    "    def Subfields():\n",
    "        items=[\"Machine Learning\",\n",
    "        \"Neural Networks\",\n",
    "        \"Vision\",\n",
    "        \"Robotics\",\n",
    "        \"Speech Processing\",\n",
    "        \"Natural Language Processing\"]\n",
    "        print(\"Sub-fields in AI are:\")\n",
    "        for item in items:\n",
    "            print(item)\n"
   ]
  },
  {
   "cell_type": "code",
   "execution_count": 13,
   "id": "096c97a7",
   "metadata": {},
   "outputs": [
    {
     "name": "stdout",
     "output_type": "stream",
     "text": [
      "Sub-fields in AI are:\n",
      "Machine Learning\n",
      "Neural Networks\n",
      "Vision\n",
      "Robotics\n",
      "Speech Processing\n",
      "Natural Language Processing\n"
     ]
    }
   ],
   "source": [
    "Subfields.Subfields()"
   ]
  },
  {
   "cell_type": "code",
   "execution_count": null,
   "id": "4fc54ecb",
   "metadata": {},
   "outputs": [],
   "source": [
    "# Below is the another way of output"
   ]
  },
  {
   "cell_type": "code",
   "execution_count": 14,
   "id": "aed37b6b",
   "metadata": {},
   "outputs": [],
   "source": [
    "class Subfields():\n",
    "    def Subfields():\n",
    "        print(\"Sub-fields in AI are:\")\n",
    "        print(\"Machine Learning\")\n",
    "        print(\"Neural Networks\")\n",
    "        print(\"Vision\")\n",
    "        print(\"Robotics\")\n",
    "        print(\"Natural Language Processing\")\n"
   ]
  },
  {
   "cell_type": "code",
   "execution_count": 15,
   "id": "96a54e42",
   "metadata": {},
   "outputs": [
    {
     "name": "stdout",
     "output_type": "stream",
     "text": [
      "Sub-fields in AI are:\n",
      "Machine Learning\n",
      "Neural Networks\n",
      "Vision\n",
      "Robotics\n",
      "Natural Language Processing\n"
     ]
    }
   ],
   "source": [
    "Subfields.Subfields()"
   ]
  },
  {
   "cell_type": "code",
   "execution_count": null,
   "id": "7d26e508",
   "metadata": {},
   "outputs": [],
   "source": [
    "#Create a function that checks whether the given number is Odd or Even"
   ]
  },
  {
   "cell_type": "code",
   "execution_count": 16,
   "id": "ce4729f5",
   "metadata": {},
   "outputs": [],
   "source": [
    "class OddEven():\n",
    "    def OddEven():\n",
    "        num=int(input(\"Enter a number:\"))\n",
    "        if((num%2)==0):\n",
    "            print(num,\"is Even number\")\n",
    "        else:\n",
    "            print(num,\"is Odd number\")"
   ]
  },
  {
   "cell_type": "code",
   "execution_count": 17,
   "id": "0026b431",
   "metadata": {},
   "outputs": [
    {
     "name": "stdout",
     "output_type": "stream",
     "text": [
      "Enter a number:52452\n",
      "52452 is Even number\n"
     ]
    }
   ],
   "source": [
    "OddEven.OddEven()"
   ]
  },
  {
   "cell_type": "code",
   "execution_count": null,
   "id": "d702e4b1",
   "metadata": {},
   "outputs": [],
   "source": [
    "# Create a function that tells elegibility of marriage for male and female according to their age limit like 21 for male and 18 for female"
   ]
  },
  {
   "cell_type": "code",
   "execution_count": 2,
   "id": "5dd75748",
   "metadata": {},
   "outputs": [],
   "source": [
    "class ElegiblityForMarriage():\n",
    "    def Elegible():\n",
    "        age=input(\"Your Gender:\")\n",
    "        age=int(input(\"Your age:\"))\n",
    "        if(age<=18):\n",
    "            print(\"Eligible\")\n",
    "        else:\n",
    "            print(\"Not Eligible\")"
   ]
  },
  {
   "cell_type": "code",
   "execution_count": 3,
   "id": "7e966660",
   "metadata": {},
   "outputs": [
    {
     "name": "stdout",
     "output_type": "stream",
     "text": [
      "Your Gender:Male\n",
      "Your age:21\n",
      "Not Eligible\n"
     ]
    }
   ],
   "source": [
    "ElegiblityForMarriage.Elegible()"
   ]
  },
  {
   "cell_type": "code",
   "execution_count": null,
   "id": "88e7a26e",
   "metadata": {},
   "outputs": [],
   "source": [
    "# calculate the percentage of your 10th mark"
   ]
  },
  {
   "cell_type": "code",
   "execution_count": 4,
   "id": "315a9431",
   "metadata": {},
   "outputs": [],
   "source": [
    "class FindPercent():  \n",
    "    def percentage():\n",
    "        a=int(input(\"Subject1=\"))\n",
    "        b=int(input(\"Subject2=\"))\n",
    "        c=int(input(\"Subject3=\"))\n",
    "        d=int(input(\"Subject4=\"))\n",
    "        e=int(input(\"Subject5=\"))\n",
    "        sum=(a+b+c+d+e)\n",
    "        print(\"Total:\",sum)\n",
    "        per=(sum/500)*100\n",
    "        print(\"Percentage:\",per)\n"
   ]
  },
  {
   "cell_type": "code",
   "execution_count": 5,
   "id": "29e2115c",
   "metadata": {},
   "outputs": [
    {
     "name": "stdout",
     "output_type": "stream",
     "text": [
      "Subject1=98\n",
      "Subject2=87\n",
      "Subject3=95\n",
      "Subject4=95\n",
      "Subject5=93\n",
      "Total: 468\n",
      "Percentage: 93.60000000000001\n"
     ]
    }
   ],
   "source": [
    "FindPercent.percentage()"
   ]
  },
  {
   "cell_type": "code",
   "execution_count": null,
   "id": "47784511",
   "metadata": {},
   "outputs": [],
   "source": [
    "#print area and perimeter of triangle using class and functions"
   ]
  },
  {
   "cell_type": "code",
   "execution_count": 9,
   "id": "d25cd5d9",
   "metadata": {},
   "outputs": [],
   "source": [
    "class triangle():\n",
    "    def triangle():\n",
    "        height=int(input(\"Height:\"))\n",
    "        breadth=int(input(\"Breadth:\"))\n",
    "        print(\"Area formula: (Height*Breadth)/2\")\n",
    "        tri=float(input(\"Area of a Triangle:\"))\n",
    "        hei1=int(input(\"Height1:\"))\n",
    "        hei2=int(input(\"Height2:\"))\n",
    "        bre=int(input(\"Breadth:\"))\n",
    "        print(\"Perimeter formula: Height1+Height2+Breadth\")\n",
    "        tri1=int(input(\"Perimeter of Triangle:\"))"
   ]
  },
  {
   "cell_type": "code",
   "execution_count": 10,
   "id": "be2768ee",
   "metadata": {},
   "outputs": [
    {
     "name": "stdout",
     "output_type": "stream",
     "text": [
      "Height:32\n",
      "Breadth:34\n",
      "Area formula: (Height*Breadth)/2\n",
      "Area of a Triangle:544.0\n",
      "Height1:2\n",
      "Height2:4\n",
      "Breadth:4\n",
      "Perimeter formula: Height1+Height2+Breadth\n",
      "Perimeter of Triangle:10\n"
     ]
    }
   ],
   "source": [
    "triangle.triangle()"
   ]
  },
  {
   "cell_type": "code",
   "execution_count": null,
   "id": "7e32df26",
   "metadata": {},
   "outputs": [],
   "source": []
  }
 ],
 "metadata": {
  "kernelspec": {
   "display_name": "Python 3 (ipykernel)",
   "language": "python",
   "name": "python3"
  },
  "language_info": {
   "codemirror_mode": {
    "name": "ipython",
    "version": 3
   },
   "file_extension": ".py",
   "mimetype": "text/x-python",
   "name": "python",
   "nbconvert_exporter": "python",
   "pygments_lexer": "ipython3",
   "version": "3.11.5"
  }
 },
 "nbformat": 4,
 "nbformat_minor": 5
}
