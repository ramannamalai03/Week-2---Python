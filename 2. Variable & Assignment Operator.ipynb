{
 "cells": [
  {
   "cell_type": "code",
   "execution_count": null,
   "id": "390de013",
   "metadata": {},
   "outputs": [],
   "source": [
    "num1=10\n",
    "num2=30\n",
    "add=(num1+num2)"
   ]
  },
  {
   "cell_type": "code",
   "execution_count": null,
   "id": "a5dda25d",
   "metadata": {},
   "outputs": [],
   "source": [
    "print('add')"
   ]
  },
  {
   "cell_type": "code",
   "execution_count": null,
   "id": "592e70f8",
   "metadata": {},
   "outputs": [],
   "source": [
    "print(add)"
   ]
  },
  {
   "cell_type": "code",
   "execution_count": null,
   "id": "7f17fbd0",
   "metadata": {},
   "outputs": [],
   "source": [
    "FirstName=ram"
   ]
  },
  {
   "cell_type": "code",
   "execution_count": null,
   "id": "91d47f72",
   "metadata": {},
   "outputs": [],
   "source": [
    "FirstName='ram'"
   ]
  },
  {
   "cell_type": "code",
   "execution_count": null,
   "id": "1247cc86",
   "metadata": {},
   "outputs": [],
   "source": [
    "4firstname='ram'"
   ]
  },
  {
   "cell_type": "code",
   "execution_count": null,
   "id": "98583913",
   "metadata": {},
   "outputs": [],
   "source": [
    "firstName=10\n",
    "Last_Name=50\n",
    "add=(firstName+Last_Name)"
   ]
  },
  {
   "cell_type": "code",
   "execution_count": null,
   "id": "1ad87ae8",
   "metadata": {},
   "outputs": [],
   "source": [
    "print(add)"
   ]
  },
  {
   "cell_type": "code",
   "execution_count": null,
   "id": "a6d7b6f2",
   "metadata": {},
   "outputs": [],
   "source": [
    "print(add)"
   ]
  },
  {
   "cell_type": "code",
   "execution_count": null,
   "id": "63c5432a",
   "metadata": {},
   "outputs": [],
   "source": [
    "print(\"The Addition of Two Number\")"
   ]
  },
  {
   "cell_type": "code",
   "execution_count": null,
   "id": "57d45a75",
   "metadata": {},
   "outputs": [],
   "source": [
    "print(\"The Addition of 1\")\n",
    "num1=10\n",
    "print(\"The number1:\",num1)"
   ]
  },
  {
   "cell_type": "code",
   "execution_count": null,
   "id": "d309a8f0",
   "metadata": {},
   "outputs": [],
   "source": [
    "num2=30\n",
    "print(\"The number2:\",num2)"
   ]
  },
  {
   "cell_type": "code",
   "execution_count": null,
   "id": "b95d5109",
   "metadata": {},
   "outputs": [],
   "source": [
    "print(\"Answer:,num1+num2)"
   ]
  },
  {
   "cell_type": "code",
   "execution_count": null,
   "id": "7f846c18",
   "metadata": {},
   "outputs": [],
   "source": [
    "print(\"The Answer:\",num1+num2)"
   ]
  },
  {
   "cell_type": "code",
   "execution_count": null,
   "id": "777b8818",
   "metadata": {},
   "outputs": [],
   "source": [
    "num1=input(\"Enter the num1:)"
   ]
  },
  {
   "cell_type": "code",
   "execution_count": null,
   "id": "2f997d7b",
   "metadata": {},
   "outputs": [],
   "source": [
    "num1=input(\"Enter the num1:\")"
   ]
  },
  {
   "cell_type": "code",
   "execution_count": null,
   "id": "d37b9498",
   "metadata": {},
   "outputs": [],
   "source": [
    "num2=input(\"Enter the num2:\")"
   ]
  },
  {
   "cell_type": "code",
   "execution_count": null,
   "id": "e2c340c5",
   "metadata": {},
   "outputs": [],
   "source": [
    "num2=input(\"Enter the num2:\")"
   ]
  },
  {
   "cell_type": "code",
   "execution_count": null,
   "id": "4ffc55a5",
   "metadata": {},
   "outputs": [],
   "source": [
    "add=num1+num2"
   ]
  },
  {
   "cell_type": "code",
   "execution_count": null,
   "id": "6afa955d",
   "metadata": {},
   "outputs": [],
   "source": [
    "num1=input(\"Enter the num1:\")"
   ]
  },
  {
   "cell_type": "code",
   "execution_count": null,
   "id": "8dcc753f",
   "metadata": {},
   "outputs": [],
   "source": [
    "num1=int(input(\"Enter the num1:\"))"
   ]
  },
  {
   "cell_type": "code",
   "execution_count": null,
   "id": "de2cb20c",
   "metadata": {},
   "outputs": [],
   "source": [
    "num2=int(input(\"Enter the num2:\"))"
   ]
  },
  {
   "cell_type": "code",
   "execution_count": null,
   "id": "349394b5",
   "metadata": {},
   "outputs": [],
   "source": [
    "num1=10"
   ]
  },
  {
   "cell_type": "code",
   "execution_count": null,
   "id": "782b961b",
   "metadata": {},
   "outputs": [],
   "source": [
    "num2=20"
   ]
  },
  {
   "cell_type": "code",
   "execution_count": null,
   "id": "aa9c5ba2",
   "metadata": {},
   "outputs": [],
   "source": [
    "add=num1+num2"
   ]
  },
  {
   "cell_type": "code",
   "execution_count": null,
   "id": "6986975d",
   "metadata": {},
   "outputs": [],
   "source": [
    "print(add)"
   ]
  },
  {
   "cell_type": "code",
   "execution_count": null,
   "id": "797043bf",
   "metadata": {},
   "outputs": [],
   "source": [
    "print(\"The number1:\")"
   ]
  },
  {
   "cell_type": "code",
   "execution_count": 1,
   "id": "da8fa15a",
   "metadata": {},
   "outputs": [
    {
     "name": "stdout",
     "output_type": "stream",
     "text": [
      "Welcome\n"
     ]
    }
   ],
   "source": [
    "print(\"Welcome\")"
   ]
  },
  {
   "cell_type": "code",
   "execution_count": 7,
   "id": "f418eeda",
   "metadata": {},
   "outputs": [
    {
     "name": "stdout",
     "output_type": "stream",
     "text": [
      "Enter the num1:30\n"
     ]
    }
   ],
   "source": [
    "num1=int(input(\"Enter the num1:\"))"
   ]
  },
  {
   "cell_type": "code",
   "execution_count": 12,
   "id": "287411e9",
   "metadata": {},
   "outputs": [
    {
     "name": "stdout",
     "output_type": "stream",
     "text": [
      "Enter the num2:50\n"
     ]
    }
   ],
   "source": [
    "num2=int(input(\"Enter the num2:\"))"
   ]
  },
  {
   "cell_type": "code",
   "execution_count": 9,
   "id": "c8fb5015",
   "metadata": {},
   "outputs": [],
   "source": [
    "add=(num1+num2)"
   ]
  },
  {
   "cell_type": "code",
   "execution_count": 13,
   "id": "83b4b984",
   "metadata": {},
   "outputs": [
    {
     "name": "stdout",
     "output_type": "stream",
     "text": [
      "80\n"
     ]
    }
   ],
   "source": [
    "print(add)"
   ]
  },
  {
   "cell_type": "code",
   "execution_count": 14,
   "id": "08ff0bc8",
   "metadata": {},
   "outputs": [
    {
     "name": "stdout",
     "output_type": "stream",
     "text": [
      "Anwer the question in number\n"
     ]
    }
   ],
   "source": [
    "print(\"Anwer the question in number\")"
   ]
  },
  {
   "cell_type": "code",
   "execution_count": 15,
   "id": "5a7b51f4",
   "metadata": {},
   "outputs": [
    {
     "name": "stdout",
     "output_type": "stream",
     "text": [
      "The number1:,\n"
     ]
    }
   ],
   "source": [
    "print(\"The number1:,\")\n",
    "num1=20"
   ]
  },
  {
   "cell_type": "code",
   "execution_count": 16,
   "id": "bce11777",
   "metadata": {},
   "outputs": [
    {
     "name": "stdout",
     "output_type": "stream",
     "text": [
      "The number1:,num1\n"
     ]
    }
   ],
   "source": [
    "print(\"The number1:,num1\")"
   ]
  },
  {
   "cell_type": "code",
   "execution_count": 17,
   "id": "34950a05",
   "metadata": {},
   "outputs": [
    {
     "name": "stdout",
     "output_type": "stream",
     "text": [
      "The number1:,\n"
     ]
    }
   ],
   "source": [
    "print(\"The number1:,\")\n",
    "num1=20"
   ]
  },
  {
   "cell_type": "code",
   "execution_count": 18,
   "id": "0622e2ec",
   "metadata": {},
   "outputs": [
    {
     "name": "stdout",
     "output_type": "stream",
     "text": [
      "The number1:,num1\n"
     ]
    }
   ],
   "source": [
    "print(\"The number1:,num1\")"
   ]
  },
  {
   "cell_type": "code",
   "execution_count": 20,
   "id": "5f300e1d",
   "metadata": {},
   "outputs": [
    {
     "name": "stdout",
     "output_type": "stream",
     "text": [
      "The number1: 10\n"
     ]
    }
   ],
   "source": [
    "num1=10\n",
    "print(\"The number1:\",num1)"
   ]
  },
  {
   "cell_type": "markdown",
   "id": "81e98fbb",
   "metadata": {},
   "source": [
    "num2=20\n",
    "print(\"The number2:\",num2)"
   ]
  },
  {
   "cell_type": "code",
   "execution_count": 21,
   "id": "2e959fc2",
   "metadata": {},
   "outputs": [
    {
     "name": "stdout",
     "output_type": "stream",
     "text": [
      "The number2: 90\n"
     ]
    }
   ],
   "source": [
    "num2=90\n",
    "print(\"The number2:\",num2)"
   ]
  },
  {
   "cell_type": "code",
   "execution_count": 22,
   "id": "54d6f658",
   "metadata": {},
   "outputs": [],
   "source": [
    "add=num1+num2"
   ]
  },
  {
   "cell_type": "code",
   "execution_count": 23,
   "id": "12558b63",
   "metadata": {},
   "outputs": [
    {
     "name": "stdout",
     "output_type": "stream",
     "text": [
      "100\n"
     ]
    }
   ],
   "source": [
    "print(add)"
   ]
  },
  {
   "cell_type": "code",
   "execution_count": 24,
   "id": "aea8ee9b",
   "metadata": {},
   "outputs": [
    {
     "name": "stdout",
     "output_type": "stream",
     "text": [
      "Enter the num1:200\n"
     ]
    }
   ],
   "source": [
    "num1=int(input(\"Enter the num1:\"))"
   ]
  },
  {
   "cell_type": "code",
   "execution_count": 25,
   "id": "e28f3989",
   "metadata": {},
   "outputs": [
    {
     "name": "stdout",
     "output_type": "stream",
     "text": [
      "enter the num2:500\n"
     ]
    }
   ],
   "source": [
    "num2=int(input(\"enter the num2:\"))"
   ]
  },
  {
   "cell_type": "code",
   "execution_count": 26,
   "id": "3bf3b200",
   "metadata": {},
   "outputs": [],
   "source": [
    "add=num1+num2"
   ]
  },
  {
   "cell_type": "code",
   "execution_count": 27,
   "id": "e649a943",
   "metadata": {},
   "outputs": [
    {
     "name": "stdout",
     "output_type": "stream",
     "text": [
      "700\n"
     ]
    }
   ],
   "source": [
    "print(add)"
   ]
  },
  {
   "cell_type": "code",
   "execution_count": null,
   "id": "401adaff",
   "metadata": {},
   "outputs": [],
   "source": []
  }
 ],
 "metadata": {
  "kernelspec": {
   "display_name": "Python 3 (ipykernel)",
   "language": "python",
   "name": "python3"
  },
  "language_info": {
   "codemirror_mode": {
    "name": "ipython",
    "version": 3
   },
   "file_extension": ".py",
   "mimetype": "text/x-python",
   "name": "python",
   "nbconvert_exporter": "python",
   "pygments_lexer": "ipython3",
   "version": "3.11.5"
  }
 },
 "nbformat": 4,
 "nbformat_minor": 5
}
