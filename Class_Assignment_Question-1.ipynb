{
 "cells": [
  {
   "cell_type": "code",
   "execution_count": null,
   "id": "988412c1",
   "metadata": {},
   "outputs": [],
   "source": [
    "# Create a class and function, and list out the items in the list"
   ]
  },
  {
   "cell_type": "code",
   "execution_count": null,
   "id": "9b4588bb",
   "metadata": {},
   "outputs": [],
   "source": [
    "# Below is one way of output"
   ]
  },
  {
   "cell_type": "code",
   "execution_count": null,
   "id": "76e28aee",
   "metadata": {},
   "outputs": [],
   "source": [
    "class Subfields():\n",
    "    def Subfields():\n",
    "        items=[\"Machine Learning\",\n",
    "        \"Neural Networks\",\n",
    "        \"Vision\",\n",
    "        \"Robotics\",\n",
    "        \"Speech Processing\",\n",
    "        \"Natural Language Processing\"]\n",
    "        print(\"Sub-fields in AI are:\")\n",
    "        for item in items:\n",
    "            print(item)\n"
   ]
  },
  {
   "cell_type": "code",
   "execution_count": null,
   "id": "6ea492c5",
   "metadata": {},
   "outputs": [],
   "source": [
    "Subfields.Subfields()"
   ]
  },
  {
   "cell_type": "code",
   "execution_count": null,
   "id": "742ef832",
   "metadata": {},
   "outputs": [],
   "source": [
    "# Below is the another way of output"
   ]
  },
  {
   "cell_type": "code",
   "execution_count": null,
   "id": "9a7c20bd",
   "metadata": {},
   "outputs": [],
   "source": [
    "class Subfields():\n",
    "    def Subfields():\n",
    "        print(\"Sub-fields in AI are:\")\n",
    "        print(\"Machine Learning\")\n",
    "        print(\"Neural Networks\")\n",
    "        print(\"Vision\")\n",
    "        print(\"Robotics\")\n",
    "        print(\"Natural Language Processing\")\n"
   ]
  },
  {
   "cell_type": "code",
   "execution_count": null,
   "id": "1af7150c",
   "metadata": {},
   "outputs": [],
   "source": [
    "Subfields.Subfields()"
   ]
  },
  {
   "cell_type": "code",
   "execution_count": null,
   "id": "199e3f0f",
   "metadata": {},
   "outputs": [],
   "source": [
    "#Create a function that checks whether the given number is Odd or Even"
   ]
  },
  {
   "cell_type": "code",
   "execution_count": null,
   "id": "91fb1c1c",
   "metadata": {},
   "outputs": [],
   "source": [
    "class OddEven():\n",
    "    def OddEven():\n",
    "        num=int(input(\"Enter a number:\"))\n",
    "        if((num%2)==0):\n",
    "            print(num,\"is Even number\")\n",
    "        else:\n",
    "            print(num,\"is Odd number\")"
   ]
  },
  {
   "cell_type": "code",
   "execution_count": null,
   "id": "f9804dad",
   "metadata": {},
   "outputs": [],
   "source": [
    "OddEven.OddEven()"
   ]
  },
  {
   "cell_type": "code",
   "execution_count": null,
   "id": "d9c3648a",
   "metadata": {},
   "outputs": [],
   "source": [
    "# Create a function that tells elegibility of marriage for male and female according to their age limit like 21 for male and 18 for female"
   ]
  },
  {
   "cell_type": "code",
   "execution_count": null,
   "id": "ce5092fa",
   "metadata": {},
   "outputs": [],
   "source": [
    "class ElegiblityForMarriage():\n",
    "    def Elegible():\n",
    "        age=input(\"Your Gender:\")\n",
    "        age=int(input(\"Your age:\"))\n",
    "        if(age<=18):\n",
    "            print(\"Eligible\")\n",
    "        else:\n",
    "            print(\"Not Eligible\")"
   ]
  },
  {
   "cell_type": "code",
   "execution_count": null,
   "id": "0ad8e62f",
   "metadata": {},
   "outputs": [],
   "source": [
    "ElegiblityForMarriage.Elegible()"
   ]
  },
  {
   "cell_type": "code",
   "execution_count": null,
   "id": "33c68602",
   "metadata": {},
   "outputs": [],
   "source": [
    "# calculate the percentage of your 10th mark"
   ]
  },
  {
   "cell_type": "code",
   "execution_count": 9,
   "id": "b908e05d",
   "metadata": {},
   "outputs": [],
   "source": [
    "class FindPercent():  \n",
    "    def percentage():\n",
    "        a=int(input(\"Subject1=\"))\n",
    "        b=int(input(\"Subject2=\"))\n",
    "        c=int(input(\"Subject3=\"))\n",
    "        d=int(input(\"Subject4=\"))\n",
    "        e=int(input(\"Subject5=\"))\n",
    "        sum=(a+b+c+d+e)\n",
    "        print(\"Total:\",sum)\n",
    "        per=(sum/500)*100\n",
    "        print(\"Percentage:\",per)\n"
   ]
  },
  {
   "cell_type": "code",
   "execution_count": 11,
   "id": "b320666e",
   "metadata": {},
   "outputs": [
    {
     "name": "stdout",
     "output_type": "stream",
     "text": [
      "Subject1=98\n",
      "Subject2=87\n",
      "Subject3=95\n",
      "Subject4=95\n",
      "Subject5=93\n",
      "Total: 468\n",
      "Percentage: 93.60000000000001\n"
     ]
    }
   ],
   "source": [
    "FindPercent.percentage()"
   ]
  },
  {
   "cell_type": "code",
   "execution_count": null,
   "id": "31e5561b",
   "metadata": {},
   "outputs": [],
   "source": [
    "#print area and perimeter of triangle using class and functions"
   ]
  },
  {
   "cell_type": "code",
   "execution_count": 13,
   "id": "c086df55",
   "metadata": {},
   "outputs": [
    {
     "name": "stdout",
     "output_type": "stream",
     "text": [
      "Height:32\n",
      "Breadth:34\n",
      "Area formula: (Height*Breadth)/2\n",
      "Area of a Triangle:544.0\n",
      "Height1:2\n",
      "Height2:4\n",
      "Breadth:4\n",
      "Perimeter formula: Height1+Height2+Breadth\n",
      "Perimeter of Triangle:10\n"
     ]
    }
   ],
   "source": [
    "height=int(input(\"Height:\"))\n",
    "breadth=int(input(\"Breadth:\"))\n",
    "print(\"Area formula: (Height*Breadth)/2\")\n",
    "tri=float(input(\"Area of a Triangle:\"))\n",
    "hei1=int(input(\"Height1:\"))\n",
    "hei2=int(input(\"Height2:\"))\n",
    "bre=int(input(\"Breadth:\"))\n",
    "print(\"Perimeter formula: Height1+Height2+Breadth\")\n",
    "tri1=int(input(\"Perimeter of Triangle:\"))"
   ]
  },
  {
   "cell_type": "code",
   "execution_count": null,
   "id": "6f655426",
   "metadata": {},
   "outputs": [],
   "source": []
  }
 ],
 "metadata": {
  "kernelspec": {
   "display_name": "Python 3 (ipykernel)",
   "language": "python",
   "name": "python3"
  },
  "language_info": {
   "codemirror_mode": {
    "name": "ipython",
    "version": 3
   },
   "file_extension": ".py",
   "mimetype": "text/x-python",
   "name": "python",
   "nbconvert_exporter": "python",
   "pygments_lexer": "ipython3",
   "version": "3.11.5"
  }
 },
 "nbformat": 4,
 "nbformat_minor": 5
}
