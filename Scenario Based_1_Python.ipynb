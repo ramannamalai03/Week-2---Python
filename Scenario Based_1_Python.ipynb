{
 "cells": [
  {
   "cell_type": "code",
   "execution_count": null,
   "id": "40e475be",
   "metadata": {},
   "outputs": [],
   "source": [
    "1.\tScenario: A system checks if a user is eligible to vote based on their age.\n",
    " Write logic to ask the user for their age and determine if they are eligible to vote based on whether they are 18 or older.\n"
   ]
  },
  {
   "cell_type": "code",
   "execution_count": 12,
   "id": "df2d983f",
   "metadata": {},
   "outputs": [
    {
     "name": "stdout",
     "output_type": "stream",
     "text": [
      "Enter the age:18\n",
      "Eligible to Vote\n"
     ]
    }
   ],
   "source": [
    "age=int(input(\"Enter the age:\"))\n",
    "if(age<17):\n",
    "    print(\"Not Eligible to Vote\")\n",
    "else:\n",
    "    print(\"Eligible to Vote\")\n",
    "    "
   ]
  },
  {
   "cell_type": "code",
   "execution_count": null,
   "id": "ab1edf23",
   "metadata": {},
   "outputs": [],
   "source": [
    "2.\tScenario: A program processes a list of numbers and needs to find the largest value.\n",
    " Write logic to identify and return the largest number from a given list.\n"
   ]
  },
  {
   "cell_type": "code",
   "execution_count": 34,
   "id": "98803b30",
   "metadata": {},
   "outputs": [
    {
     "name": "stdout",
     "output_type": "stream",
     "text": [
      "Largest number from the given list: 12\n"
     ]
    }
   ],
   "source": [
    "numbers = [12, 45, 78, 23, 56]\n",
    "largest_number = min(numbers)\n",
    "print(\"Largest number from the given list:\", largest_number)\n"
   ]
  },
  {
   "cell_type": "code",
   "execution_count": null,
   "id": "3eae35f2",
   "metadata": {},
   "outputs": [],
   "source": []
  },
  {
   "cell_type": "code",
   "execution_count": null,
   "id": "3bd25509",
   "metadata": {},
   "outputs": [],
   "source": [
    "3.\tScenario: A company provides employees with a 10% bonus if their salary exceeds $50,000.\n",
    " Write logic to determine the bonus amount based on the given salary.\n"
   ]
  },
  {
   "cell_type": "code",
   "execution_count": 13,
   "id": "59d37188",
   "metadata": {},
   "outputs": [
    {
     "name": "stdout",
     "output_type": "stream",
     "text": [
      "Salary:50000\n",
      "Company provides the 10% bonus\n"
     ]
    }
   ],
   "source": [
    "sal=int(input(\"Salary:\"))\n",
    "if(sal==50000):\n",
    "    print(\"Company provides the 10% bonus\")\n",
    "else:\n",
    "    print(\"Company is not providing the bonus\")"
   ]
  },
  {
   "cell_type": "code",
   "execution_count": null,
   "id": "6c3d5948",
   "metadata": {},
   "outputs": [],
   "source": [
    "4.\tScenario: A program evaluates a number to determine if it is even or odd.\n",
    " Write logic to check whether a given number is even or odd.\n"
   ]
  },
  {
   "cell_type": "code",
   "execution_count": 11,
   "id": "9290b424",
   "metadata": {},
   "outputs": [
    {
     "name": "stdout",
     "output_type": "stream",
     "text": [
      "Given number is:5\n",
      "odd\n"
     ]
    }
   ],
   "source": [
    "num=int(input(\"Given number is:\"))\n",
    "if(num==0):\n",
    "    print(\"Even\")\n",
    "else:\n",
    "    print(\"odd\")"
   ]
  },
  {
   "cell_type": "code",
   "execution_count": null,
   "id": "c3e3eba2",
   "metadata": {},
   "outputs": [],
   "source": [
    "5.\tScenario: A text-processing tool reverses a given word or sentence for formatting purposes.\n",
    " Write logic to take a word or sentence as input and produce its reversed version.\n"
   ]
  },
  {
   "cell_type": "code",
   "execution_count": 7,
   "id": "c41bcdd2",
   "metadata": {},
   "outputs": [
    {
     "name": "stdout",
     "output_type": "stream",
     "text": [
      "Enter a word or sentence to reverse: hello\n",
      "Reversed: olleh\n"
     ]
    }
   ],
   "source": [
    "def reverse_text(text):\n",
    "    return text[::-1]\n",
    "user_input = input(\"Enter a word or sentence to reverse: \")\n",
    "reversed_output = reverse_text(user_input)\n",
    "print(\"Reversed:\", reversed_output)"
   ]
  },
  {
   "cell_type": "code",
   "execution_count": null,
   "id": "1400f037",
   "metadata": {},
   "outputs": [],
   "source": [
    "6.\tScenario: A grading system determines whether a student has passed or failed based on their score.\n",
    " Write logic to check if a student has passed a subject by scoring at least 40 marks.\n"
   ]
  },
  {
   "cell_type": "code",
   "execution_count": 6,
   "id": "7babd181",
   "metadata": {},
   "outputs": [
    {
     "name": "stdout",
     "output_type": "stream",
     "text": [
      "Student has passed:40\n",
      "Student is Passed\n"
     ]
    }
   ],
   "source": [
    "score=int(input(\"Student has passed:\"))\n",
    "if(score>=40):\n",
    "    print(\"Student is Passed\")\n",
    "else:\n",
    "    print(\"Student is Failed\")"
   ]
  },
  {
   "cell_type": "code",
   "execution_count": null,
   "id": "48f8b99b",
   "metadata": {},
   "outputs": [],
   "source": [
    "7.\tScenario: A retail store offers a 20% discount if a customer’s total order exceeds $100. \n",
    "    Write logic to calculate the final amount to be paid after applying the discount."
   ]
  },
  {
   "cell_type": "code",
   "execution_count": 4,
   "id": "baaf07fc",
   "metadata": {},
   "outputs": [
    {
     "name": "stdout",
     "output_type": "stream",
     "text": [
      "Final amount to be paid:110\n",
      "Final amount to be paid after applying the discount: 88.0\n"
     ]
    }
   ],
   "source": [
    "amount=int(input(\"Final amount to be paid:\"))\n",
    "if amount>=100:\n",
    "    final_amount=amount*0.8\n",
    "    print(\"Final amount to be paid after applying the discount:\", final_amount)\n",
    "else:\n",
    "    print(\"No discount applied after paying the final amount\")"
   ]
  },
  {
   "cell_type": "code",
   "execution_count": null,
   "id": "2608afb1",
   "metadata": {},
   "outputs": [],
   "source": [
    "8.\tScenario: A banking system processes withdrawal requests and ensures the user has enough balance.\n",
    "\n",
    " Write logic to check if a user has enough balance before allowing a withdrawal and update the remaining balance accordingly.\n"
   ]
  },
  {
   "cell_type": "code",
   "execution_count": 2,
   "id": "514ef94d",
   "metadata": {},
   "outputs": [
    {
     "name": "stdout",
     "output_type": "stream",
     "text": [
      "Input the amount:1000\n",
      "Remaining balance: 9000\n"
     ]
    }
   ],
   "source": [
    "balance=int(input(\"Input the amount:\"))\n",
    "initial_balance=10000\n",
    "if (initial_balance>=balance):\n",
    "    remaining_balance=initial_balance-balance\n",
    "    print(\"Remaining balance:\", remaining_balance)\n",
    "else:\n",
    "    print(\"Withdrawal is not allowed\")\n",
    "    \n"
   ]
  },
  {
   "cell_type": "code",
   "execution_count": null,
   "id": "0cb9a71d",
   "metadata": {},
   "outputs": [],
   "source": [
    "9.\tScenario: A calendar system verifies whether a given year is a leap year based on standard leap year rules.\n",
    " Write logic to determine whether a given year is a leap year.\n"
   ]
  },
  {
   "cell_type": "code",
   "execution_count": 5,
   "id": "57efd355",
   "metadata": {},
   "outputs": [
    {
     "name": "stdout",
     "output_type": "stream",
     "text": [
      "Enter the year:2028\n",
      "Given year is a leap year\n"
     ]
    }
   ],
   "source": [
    "year=int(input(\"Enter the year:\"))\n",
    "if((year%4)==0):\n",
    "    print(\"Given year is a leap year\")\n",
    "else:\n",
    "    print(\"Given year is not a leap year\")"
   ]
  },
  {
   "cell_type": "code",
   "execution_count": null,
   "id": "62a54dad",
   "metadata": {},
   "outputs": [],
   "source": [
    "10.\tScenario: A program filters out only even numbers from a given list.\n",
    " Write logic to extract and return only the even numbers from a list.\n"
   ]
  },
  {
   "cell_type": "code",
   "execution_count": 3,
   "id": "1f2aea76",
   "metadata": {},
   "outputs": [
    {
     "name": "stdout",
     "output_type": "stream",
     "text": [
      "2\n",
      "4\n",
      "6\n",
      "8\n"
     ]
    }
   ],
   "source": [
    "list=[1,2,3,4,5,6,7,8,9]\n",
    "for num in list:\n",
    "    if((num%2)==0):\n",
    "        print(num)"
   ]
  },
  {
   "cell_type": "code",
   "execution_count": null,
   "id": "731f023d",
   "metadata": {},
   "outputs": [],
   "source": [
    "\n"
   ]
  },
  {
   "cell_type": "code",
   "execution_count": null,
   "id": "13d9414d",
   "metadata": {},
   "outputs": [],
   "source": []
  }
 ],
 "metadata": {
  "kernelspec": {
   "display_name": "Python 3 (ipykernel)",
   "language": "python",
   "name": "python3"
  },
  "language_info": {
   "codemirror_mode": {
    "name": "ipython",
    "version": 3
   },
   "file_extension": ".py",
   "mimetype": "text/x-python",
   "name": "python",
   "nbconvert_exporter": "python",
   "pygments_lexer": "ipython3",
   "version": "3.11.5"
  }
 },
 "nbformat": 4,
 "nbformat_minor": 5
}
